{
 "cells": [
  {
   "cell_type": "markdown",
   "metadata": {},
   "source": [
    "# TME1"
   ]
  },
  {
   "cell_type": "code",
   "execution_count": 41,
   "metadata": {},
   "outputs": [],
   "source": [
    "import numpy as np"
   ]
  },
  {
   "cell_type": "markdown",
   "metadata": {},
   "source": [
    "## Recup data"
   ]
  },
  {
   "cell_type": "code",
   "execution_count": 86,
   "metadata": {},
   "outputs": [],
   "source": [
    "file = open(\"CTR.txt\",\"r\")\n",
    "txt = file.read()\n",
    "file.close()\n",
    "\n",
    "lines = txt.split(\"\\n\")\n",
    "lines = lines[:len(lines)-1]\n",
    "\n",
    "data = []\n",
    "for line in lines:\n",
    "    tmp = line.split(\":\")\n",
    "    dic = {\"id\":tmp[0], \"article\":tmp[1].split(\";\"), \"annonceurs\":tmp[2].split(\";\")}\n",
    "    data.append(dic)"
   ]
  },
  {
   "cell_type": "code",
   "execution_count": 39,
   "metadata": {},
   "outputs": [
    {
     "data": {
      "text/plain": [
       "{'id': '0',\n",
       " 'article': ['0.74837091377052',\n",
       "  '0.8352077827766918',\n",
       "  '0.07669895743095312',\n",
       "  '0.17243898920810596',\n",
       "  '0.14344585283799294'],\n",
       " 'annonceurs': ['0.10341905704918021',\n",
       "  '0.19069778281037159',\n",
       "  '0.0',\n",
       "  '0.10240139196802925',\n",
       "  '0.0363124254124334',\n",
       "  '0.07456195450906297',\n",
       "  '0.2347024151796051',\n",
       "  '0.0',\n",
       "  '0.0',\n",
       "  '0.07857372422425657']}"
      ]
     },
     "execution_count": 39,
     "metadata": {},
     "output_type": "execute_result"
    }
   ],
   "source": []
  },
  {
   "cell_type": "code",
   "execution_count": null,
   "metadata": {},
   "outputs": [],
   "source": [
    "class Bandit():\n",
    "    "
   ]
  },
  {
   "cell_type": "code",
   "execution_count": 45,
   "metadata": {},
   "outputs": [],
   "source": [
    "def random(t, gains, nbs, gainOpti, statsTricheur, gainMoyen):\n",
    "    \"\"\"\n",
    "    \n",
    "    :type t: int\n",
    "    :type gains: [int]*10 gain cumulés à l'instant t\n",
    "    :type nbs: [int]*10 nombre de fois où un bras a été joué à l'instant t\n",
    "    :type gainOpti: [int]*10 gain au temps t\n",
    "    :type statsTricheur: [int]*2 gain cumulés des strategies tricheur\n",
    "    :type gainMoyen: [int]*10 gain moyen en prenant toujours le même bras\n",
    "    \n",
    "    \"\"\"\n",
    "    return np.random.randInt(len(stats))"
   ]
  },
  {
   "cell_type": "code",
   "execution_count": 46,
   "metadata": {},
   "outputs": [],
   "source": [
    "def staticBest(t, gains, nbs, gainOpti, statsTricheur, gainMoyen):\n",
    "    \"\"\"\n",
    "    \n",
    "    :type t: int\n",
    "    :type gains: [int]*10 gain cumulés à l'instant t\n",
    "    :type nbs: [int]*10 nombre de fois où un bras a été joué à l'instant t\n",
    "    :type gainOpti: [int]*10 gain au temps t\n",
    "    :type statsTricheur: [int]*2 gain cumulés des strategies tricheur\n",
    "    :type gainMoyen: [int]*10 gain moyen en prenant toujours le même bras\n",
    "    \n",
    "    \"\"\"\n",
    "    return np.argmax(gainMoyen)"
   ]
  },
  {
   "cell_type": "code",
   "execution_count": null,
   "metadata": {},
   "outputs": [],
   "source": [
    "def optimale(t, gains, nbs, gainOpti, statsTricheur, gainMoyen):\n",
    "    \"\"\"\n",
    "    \n",
    "    :type t: int\n",
    "    :type gains: [int]*10 gain cumulés à l'instant t\n",
    "    :type nbs: [int]*10 nombre de fois où un bras a été joué à l'instant t\n",
    "    :type gainOpti: [int]*10 gain au temps t\n",
    "    :type statsTricheur: [int]*2 gain cumulés des strategies tricheur\n",
    "    :type gainMoyen: [int]*10 gain moyen en prenant toujours le même bras\n",
    "    \n",
    "    \"\"\"\n",
    "    return np.argmax(gainOpti)"
   ]
  },
  {
   "cell_type": "code",
   "execution_count": 44,
   "metadata": {},
   "outputs": [
    {
     "data": {
      "text/plain": [
       "1"
      ]
     },
     "execution_count": 44,
     "metadata": {},
     "output_type": "execute_result"
    }
   ],
   "source": [
    "def ucb(t, gains, nbs, gainOpti, statsTricheur, gainMoyen):\n",
    "    \"\"\"\n",
    "    \n",
    "    :type t: int\n",
    "    :type gains: [int]*10 gain cumulés à l'instant t\n",
    "    :type nbs: [int]*10 nombre de fois où un bras a été joué à l'instant t\n",
    "    :type gainOpti: [int]*10 vrai gains au temps t\n",
    "    :type statsTricheur: [int]*2 gain cumulés des strategies tricheur     ordre =  StaticOpti; Opti\n",
    "    :type gainMoyen: [int]*10 gain moyen en prenant toujours le même bras  \n",
    "    \n",
    "    \"\"\"\n",
    "    return np.argmax((gains/nbs)+np.sqrt(2*np.log(t)/nbs))"
   ]
  },
  {
   "cell_type": "code",
   "execution_count": 60,
   "metadata": {},
   "outputs": [],
   "source": [
    "choiceFunc = random"
   ]
  },
  {
   "cell_type": "code",
   "execution_count": 61,
   "metadata": {},
   "outputs": [],
   "source": [
    "nbBras = 10"
   ]
  },
  {
   "cell_type": "code",
   "execution_count": 91,
   "metadata": {},
   "outputs": [],
   "source": [
    "def getGainMoyen(data):\n",
    "    gainCum = np.array([0.0]*nbBras, dtype=np.float64)\n",
    "    for d in data:\n",
    "        gainCum = gainCum + np.array(d['annonceurs'], dtype=np.float64)\n",
    "    return gainCum/len(data)"
   ]
  },
  {
   "cell_type": "code",
   "execution_count": 94,
   "metadata": {},
   "outputs": [
    {
     "ename": "UFuncTypeError",
     "evalue": "ufunc 'add' did not contain a loop with signature matching types (dtype('<U32'), dtype('<U32')) -> dtype('<U32')",
     "output_type": "error",
     "traceback": [
      "\u001b[1;31m---------------------------------------------------------------------------\u001b[0m",
      "\u001b[1;31mUFuncTypeError\u001b[0m                            Traceback (most recent call last)",
      "\u001b[1;32m<ipython-input-94-db94bc271d48>\u001b[0m in \u001b[0;36m<module>\u001b[1;34m\u001b[0m\n\u001b[0;32m     15\u001b[0m \u001b[1;33m\u001b[0m\u001b[0m\n\u001b[0;32m     16\u001b[0m     \u001b[0mt\u001b[0m \u001b[1;33m+=\u001b[0m \u001b[1;36m1\u001b[0m\u001b[1;33m\u001b[0m\u001b[1;33m\u001b[0m\u001b[0m\n\u001b[1;32m---> 17\u001b[1;33m     \u001b[0mgains\u001b[0m\u001b[1;33m[\u001b[0m\u001b[0mchoice\u001b[0m\u001b[1;33m]\u001b[0m \u001b[1;33m+=\u001b[0m \u001b[0mgainOpti\u001b[0m\u001b[1;33m[\u001b[0m\u001b[0mchoice\u001b[0m\u001b[1;33m]\u001b[0m\u001b[1;33m\u001b[0m\u001b[1;33m\u001b[0m\u001b[0m\n\u001b[0m\u001b[0;32m     18\u001b[0m     \u001b[0mnbs\u001b[0m\u001b[1;33m[\u001b[0m\u001b[0mchoice\u001b[0m\u001b[1;33m]\u001b[0m \u001b[1;33m+=\u001b[0m \u001b[1;36m1\u001b[0m\u001b[1;33m\u001b[0m\u001b[1;33m\u001b[0m\u001b[0m\n\u001b[0;32m     19\u001b[0m     \u001b[0mstatsTricheur\u001b[0m\u001b[1;33m[\u001b[0m\u001b[1;36m0\u001b[0m\u001b[1;33m]\u001b[0m \u001b[1;33m+=\u001b[0m \u001b[0mgainOpti\u001b[0m\u001b[1;33m[\u001b[0m\u001b[0mstaticBest\u001b[0m\u001b[1;33m(\u001b[0m\u001b[0mt\u001b[0m\u001b[1;33m,\u001b[0m \u001b[0mgains\u001b[0m\u001b[1;33m,\u001b[0m \u001b[0mnbs\u001b[0m\u001b[1;33m,\u001b[0m \u001b[0mgainOpti\u001b[0m\u001b[1;33m,\u001b[0m \u001b[0mstatsTricheur\u001b[0m\u001b[1;33m,\u001b[0m \u001b[0mgainMoyen\u001b[0m\u001b[1;33m)\u001b[0m\u001b[1;33m]\u001b[0m\u001b[1;33m\u001b[0m\u001b[1;33m\u001b[0m\u001b[0m\n",
      "\u001b[1;31mUFuncTypeError\u001b[0m: ufunc 'add' did not contain a loop with signature matching types (dtype('<U32'), dtype('<U32')) -> dtype('<U32')"
     ]
    }
   ],
   "source": [
    "\n",
    "t = 0\n",
    "gains = np.array([0.0]*nbBras)\n",
    "nbs = np.array([0.0]*nbBras)\n",
    "statsTricheur = [0.0, 0.0]\n",
    "gainMoyen = getGainMoyen(data)\n",
    "\n",
    "\n",
    "\n",
    "for d in data:\n",
    "    gainOpti = d['annonceurs']\n",
    "    if(t<nbBras):\n",
    "        choice = t\n",
    "    else:\n",
    "        choice = choiceFunc(t, gains, nbs, gainOpti, statsTricheur, gainMoyen)\n",
    "    \n",
    "    t += 1\n",
    "    gains[choice] += gainOpti[choice]\n",
    "    nbs[choice] += 1\n",
    "    statsTricheur[0] += gainOpti[staticBest(t, gains, nbs, gainOpti, statsTricheur, gainMoyen)]\n",
    "    statsTricheur[1] += gainOpti[optimale(t, gains, nbs, gainOpti, statsTricheur, gainMoyen)]"
   ]
  },
  {
   "cell_type": "code",
   "execution_count": 92,
   "metadata": {},
   "outputs": [
    {
     "data": {
      "text/plain": [
       "array([0.01645323, 0.07724607, 0.00735922, 0.26792701, 0.03255289,\n",
       "       0.00230823, 0.09774602, 0.0355437 , 0.00616893, 0.24596128])"
      ]
     },
     "execution_count": 92,
     "metadata": {},
     "output_type": "execute_result"
    }
   ],
   "source": [
    "getGainMoyen(data)"
   ]
  },
  {
   "cell_type": "code",
   "execution_count": 55,
   "metadata": {},
   "outputs": [],
   "source": [
    "t = np.array([1,2,3])\n",
    "t += np.array([10,20,30])"
   ]
  },
  {
   "cell_type": "code",
   "execution_count": 56,
   "metadata": {},
   "outputs": [
    {
     "data": {
      "text/plain": [
       "array([11, 22, 33])"
      ]
     },
     "execution_count": 56,
     "metadata": {},
     "output_type": "execute_result"
    }
   ],
   "source": [
    "t"
   ]
  },
  {
   "cell_type": "code",
   "execution_count": 80,
   "metadata": {},
   "outputs": [
    {
     "data": {
      "text/plain": [
       "0"
      ]
     },
     "execution_count": 80,
     "metadata": {},
     "output_type": "execute_result"
    }
   ],
   "source": [
    "len(data)"
   ]
  },
  {
   "cell_type": "code",
   "execution_count": 81,
   "metadata": {},
   "outputs": [
    {
     "ename": "IndexError",
     "evalue": "list index out of range",
     "output_type": "error",
     "traceback": [
      "\u001b[1;31m---------------------------------------------------------------------------\u001b[0m",
      "\u001b[1;31mIndexError\u001b[0m                                Traceback (most recent call last)",
      "\u001b[1;32m<ipython-input-81-80a4aab09c73>\u001b[0m in \u001b[0;36m<module>\u001b[1;34m\u001b[0m\n\u001b[1;32m----> 1\u001b[1;33m \u001b[0mdata\u001b[0m\u001b[1;33m[\u001b[0m\u001b[1;36m0\u001b[0m\u001b[1;33m]\u001b[0m\u001b[1;33m\u001b[0m\u001b[1;33m\u001b[0m\u001b[0m\n\u001b[0m",
      "\u001b[1;31mIndexError\u001b[0m: list index out of range"
     ]
    }
   ],
   "source": [
    "data[0]"
   ]
  },
  {
   "cell_type": "code",
   "execution_count": null,
   "metadata": {},
   "outputs": [],
   "source": []
  }
 ],
 "metadata": {
  "kernelspec": {
   "display_name": "Python 3",
   "language": "python",
   "name": "python3"
  },
  "language_info": {
   "codemirror_mode": {
    "name": "ipython",
    "version": 3
   },
   "file_extension": ".py",
   "mimetype": "text/x-python",
   "name": "python",
   "nbconvert_exporter": "python",
   "pygments_lexer": "ipython3",
   "version": "3.8.3"
  }
 },
 "nbformat": 4,
 "nbformat_minor": 4
}
