{
 "cells": [
  {
   "cell_type": "markdown",
   "metadata": {},
   "source": [
    "# TME2"
   ]
  },
  {
   "cell_type": "code",
   "execution_count": 13,
   "metadata": {},
   "outputs": [],
   "source": [
    "import gym\n",
    "import gridworld\n",
    "import copy\n",
    "import numpy as np\n",
    "from randomAgent import RandomAgent\n",
    "from collections import defaultdict"
   ]
  },
  {
   "cell_type": "code",
   "execution_count": 4,
   "metadata": {},
   "outputs": [],
   "source": [
    "actionToMove = {0:'bottom', 1:'top', 2:'left', 3:'right'}\n",
    "moveToAction = {'bottom':0, 'top':1, 'left':2, 'right':3}"
   ]
  },
  {
   "cell_type": "code",
   "execution_count": 63,
   "metadata": {},
   "outputs": [],
   "source": [
    "class valueIterationAgent(object):\n",
    "    \"\"\"Value iteration agent!\"\"\"\n",
    "\n",
    "    def __init__(self, action_space):\n",
    "        global env\n",
    "        \n",
    "        mdp = env.getMDP() \n",
    "        \n",
    "        V = {}\n",
    "        Vtmp = {}\n",
    "\n",
    "        for etat in mdp[0]:\n",
    "            V[etat] = {}\n",
    "            V[etat]['score'] = 0.0\n",
    "            V[etat]['action'] = None\n",
    "            Vtmp[etat] = {}\n",
    "            Vtmp[etat]['score'] = 0.0\n",
    "            Vtmp[etat]['action'] = None\n",
    "\n",
    "        gamma = 0.99\n",
    "        seuil = 0.00001\n",
    "        oldValues = np.full(len(V), 100)\n",
    "\n",
    "        while(np.linalg.norm(oldValues-[d['score'] for d in V.values()]) > seuil):\n",
    "            oldValues = np.array([d['score'] for d in V.values()])\n",
    "            for etat, dic in mdp[1].items():\n",
    "\n",
    "                maxScore = -np.inf\n",
    "                bestAction = None\n",
    "\n",
    "                #Calcul du score pour chaque action possible\n",
    "                for action, val in mdp[1][etat].items():\n",
    "                    score = 0\n",
    "\n",
    "                    #Calcul du score de l'action courante\n",
    "                    for possibility in val:\n",
    "\n",
    "                        proba = possibility[0]\n",
    "                        reward = possibility[2]\n",
    "                        nextState = possibility[1]\n",
    "                        score += proba*(reward+gamma*V[nextState]['score'])\n",
    "\n",
    "                    if(score>maxScore):\n",
    "                        maxScore = score\n",
    "                        bestAction = action\n",
    "\n",
    "                Vtmp[etat]['score'] = maxScore\n",
    "                Vtmp[etat]['action'] = bestAction\n",
    "\n",
    "            V = copy.deepcopy(Vtmp) #On enregistre l'ensemble des changement d'un coup\n",
    "            \n",
    "        self.policy = {state:dic['action'] for state, dic in V.items()}\n",
    "    \n",
    "\n",
    "    def act(self, observation, reward, done):\n",
    "        currentState = gridworld.GridworldEnv.state2str(observation)\n",
    "        print(currentState)\n",
    "        return self.policy[currentState]"
   ]
  },
  {
   "cell_type": "code",
   "execution_count": 123,
   "metadata": {},
   "outputs": [],
   "source": [
    "class QlearningAgent(object):\n",
    "    \"\"\"The world's simplest agent!\"\"\"\n",
    "\n",
    "    def __init__(self, action_space):\n",
    "        self.action_space = action_space\n",
    "        self.Qsa = defaultdict(lambda: np.zeros(4))\n",
    "        self.old_state = None\n",
    "        self.old_act = None\n",
    "        self.alpha = 0.01\n",
    "        self.gamma = 0.9\n",
    "\n",
    "    def act(self, observation, reward, done):\n",
    "        \n",
    "        currentState = gridworld.GridworldEnv.state2str(observation)\n",
    "        # 1) Choix de l'action (greedy, espilon greedy, UCB ...)\n",
    "        \n",
    "        # Initialisation\n",
    "        if self.old_state == None:\n",
    "            \n",
    "            action = env.action_space.sample()\n",
    "            self.old_state = currentState\n",
    "            self.old_act = action\n",
    "            \n",
    "            return action\n",
    "        \n",
    "        # greedy\n",
    "        action = np.argmax(self.Qsa[currentState])\n",
    "        \n",
    "        # 2) Apprentissage\n",
    "        max_Qsa = np.max(self.Qsa[currentState])\n",
    "        self.Qsa[self.old_state][self.old_act] += self.alpha*(reward + self.gamma*(max_Qsa - self.Qsa[self.old_state][self.old_act]))\n",
    "        \n",
    "        # Update state and action\n",
    "        \n",
    "        self.old_state = currentState\n",
    "        self.old_act = action\n",
    "        \n",
    "        return action"
   ]
  },
  {
   "cell_type": "code",
   "execution_count": 122,
   "metadata": {},
   "outputs": [
    {
     "data": {
      "image/png": "[encoded data removed]",
      "text/plain": [
       "<Figure size 432x288 with 1 Axes>"
      ]
     },
     "metadata": {
      "needs_background": "light"
     },
     "output_type": "display_data"
    },
    {
     "data": {
      "image/png": "[encoded data removed]",
      "text/plain": [
       "<Figure size 432x288 with 1 Axes>"
      ]
     },
     "metadata": {
      "needs_background": "light"
     },
     "output_type": "display_data"
    },
    {
     "name": "stdout",
     "output_type": "stream",
     "text": [
      "[ 1.47157964e+02 -1.91000000e-01 -9.13089271e-02 -9.20021933e-02]\n",
      "2\n",
      "Action choisi : left\n"
     ]
    },
    {
     "data": {
      "image/png": "[encoded data removed]",
      "text/plain": [
       "<Figure size 432x288 with 1 Axes>"
      ]
     },
     "metadata": {
      "needs_background": "light"
     },
     "output_type": "display_data"
    },
    {
     "name": "stdout",
     "output_type": "stream",
     "text": [
      "[-6.82570175e-04  1.47257899e+02 -6.25038063e-04 -8.83067863e-04]\n",
      "1\n",
      "Action choisi : top\n"
     ]
    },
    {
     "data": {
      "image/png": "[encoded data removed]",
      "text/plain": [
       "<Figure size 432x288 with 1 Axes>"
      ]
     },
     "metadata": {
      "needs_background": "light"
     },
     "output_type": "display_data"
    },
    {
     "name": "stdout",
     "output_type": "stream",
     "text": [
      "[-1.00638275e-01 -9.22357156e-02  1.47289088e+02 -1.00145263e-01]\n",
      "0\n",
      "Action choisi : bottom\n"
     ]
    },
    {
     "data": {
      "image/png": "[encoded data removed]",
      "text/plain": [
       "<Figure size 432x288 with 1 Axes>"
      ]
     },
     "metadata": {
      "needs_background": "light"
     },
     "output_type": "display_data"
    },
    {
     "name": "stdout",
     "output_type": "stream",
     "text": [
      "[-6.82570175e-04  1.47257899e+02 -6.25038063e-04 -8.83067863e-04]\n",
      "2\n",
      "Action choisi : left\n"
     ]
    },
    {
     "data": {
      "image/png": "[encoded data removed]",
      "text/plain": [
       "<Figure size 432x288 with 1 Axes>"
      ]
     },
     "metadata": {
      "needs_background": "light"
     },
     "output_type": "display_data"
    },
    {
     "name": "stdout",
     "output_type": "stream",
     "text": [
      "[-3.82810000e-04 -3.67798478e-04 -3.90342361e-04  1.47082400e+02]\n",
      "2\n",
      "Action choisi : left\n"
     ]
    },
    {
     "data": {
      "image/png": "[encoded data removed]",
      "text/plain": [
       "<Figure size 432x288 with 1 Axes>"
      ]
     },
     "metadata": {
      "needs_background": "light"
     },
     "output_type": "display_data"
    },
    {
     "name": "stdout",
     "output_type": "stream",
     "text": [
      "[-0.000382   -0.000382   -0.00038281 -0.00043325]\n",
      "1\n",
      "Action choisi : top\n"
     ]
    },
    {
     "data": {
      "image/png": "[encoded data removed]",
      "text/plain": [
       "<Figure size 432x288 with 1 Axes>"
      ]
     },
     "metadata": {
      "needs_background": "light"
     },
     "output_type": "display_data"
    },
    {
     "name": "stdout",
     "output_type": "stream",
     "text": [
      "[-0.00030995 -0.00028281 -0.00038281 -0.00029919]\n",
      "1\n",
      "Action choisi : top\n"
     ]
    },
    {
     "data": {
      "image/png": "[encoded data removed]",
      "text/plain": [
       "<Figure size 432x288 with 1 Axes>"
      ]
     },
     "metadata": {
      "needs_background": "light"
     },
     "output_type": "display_data"
    },
    {
     "name": "stdout",
     "output_type": "stream",
     "text": [
      "[-0.00030995 -0.00028281 -0.00038281 -0.00029919]\n",
      "1\n",
      "Action choisi : top\n"
     ]
    },
    {
     "data": {
      "image/png": "[encoded data removed]",
      "text/plain": [
       "<Figure size 432x288 with 1 Axes>"
      ]
     },
     "metadata": {
      "needs_background": "light"
     },
     "output_type": "display_data"
    },
    {
     "name": "stdout",
     "output_type": "stream",
     "text": [
      "[-0.0002   -0.000191 -0.000191 -0.000282]\n",
      "3\n",
      "Action choisi : right\n"
     ]
    },
    {
     "data": {
      "image/png": "[encoded data removed]",
      "text/plain": [
       "<Figure size 432x288 with 1 Axes>"
      ]
     },
     "metadata": {
      "needs_background": "light"
     },
     "output_type": "display_data"
    },
    {
     "name": "stdout",
     "output_type": "stream",
     "text": [
      "[-1.91000000e-04 -1.91000000e-04 -1.09000000e-04  1.47124002e+02]\n",
      "3\n",
      "Action choisi : right\n"
     ]
    },
    {
     "data": {
      "image/png": "[encoded data removed]",
      "text/plain": [
       "<Figure size 432x288 with 1 Axes>"
      ]
     },
     "metadata": {
      "needs_background": "light"
     },
     "output_type": "display_data"
    },
    {
     "name": "stdout",
     "output_type": "stream",
     "text": [
      "[147.35940771   0.           0.           0.        ]\n",
      "3\n",
      "Action choisi : right\n"
     ]
    },
    {
     "data": {
      "image/png": "[encoded data removed]",
      "text/plain": [
       "<Figure size 432x288 with 1 Axes>"
      ]
     },
     "metadata": {
      "needs_background": "light"
     },
     "output_type": "display_data"
    },
    {
     "name": "stdout",
     "output_type": "stream",
     "text": [
      "[-1.00638275e-01 -9.22357156e-02  1.47289088e+02 -1.00145263e-01]\n",
      "1\n",
      "Action choisi : top\n"
     ]
    },
    {
     "data": {
      "image/png": "[encoded data removed]",
      "text/plain": [
       "<Figure size 432x288 with 1 Axes>"
      ]
     },
     "metadata": {
      "needs_background": "light"
     },
     "output_type": "display_data"
    },
    {
     "name": "stdout",
     "output_type": "stream",
     "text": [
      "[147.35940771   0.           0.           0.        ]\n",
      "3\n",
      "Action choisi : right\n"
     ]
    },
    {
     "data": {
      "image/png": "[encoded data removed]",
      "text/plain": [
       "<Figure size 432x288 with 1 Axes>"
      ]
     },
     "metadata": {
      "needs_background": "light"
     },
     "output_type": "display_data"
    },
    {
     "data": {
      "image/png": "[encoded data removed]",
      "text/plain": [
       "<Figure size 432x288 with 1 Axes>"
      ]
     },
     "metadata": {
      "needs_background": "light"
     },
     "output_type": "display_data"
    },
    {
     "name": "stdout",
     "output_type": "stream",
     "text": [
      "[ 1.47157964e+02 -1.91000000e-01 -9.13089271e-02 -9.20021933e-02]\n"
     ]
    },
    {
     "ename": "KeyboardInterrupt",
     "evalue": "Interrupted by user",
     "output_type": "error",
     "traceback": [
      "\u001b[0;31m---------------------------------------------------------------------------\u001b[0m",
      "\u001b[0;31mKeyboardInterrupt\u001b[0m                         Traceback (most recent call last)",
      "\u001b[0;32m<ipython-input-122-7bce26266a21>\u001b[0m in \u001b[0;36m<module>\u001b[0;34m\u001b[0m\n\u001b[1;32m     29\u001b[0m     \u001b[0mrsum\u001b[0m \u001b[0;34m=\u001b[0m \u001b[0;36m0\u001b[0m\u001b[0;34m\u001b[0m\u001b[0;34m\u001b[0m\u001b[0m\n\u001b[1;32m     30\u001b[0m     \u001b[0;32mwhile\u001b[0m \u001b[0;32mTrue\u001b[0m\u001b[0;34m:\u001b[0m\u001b[0;34m\u001b[0m\u001b[0;34m\u001b[0m\u001b[0m\n\u001b[0;32m---> 31\u001b[0;31m         \u001b[0maction\u001b[0m \u001b[0;34m=\u001b[0m \u001b[0magent\u001b[0m\u001b[0;34m.\u001b[0m\u001b[0mact\u001b[0m\u001b[0;34m(\u001b[0m\u001b[0mobs\u001b[0m\u001b[0;34m,\u001b[0m \u001b[0mreward\u001b[0m\u001b[0;34m,\u001b[0m \u001b[0mdone\u001b[0m\u001b[0;34m)\u001b[0m\u001b[0;34m\u001b[0m\u001b[0;34m\u001b[0m\u001b[0m\n\u001b[0m\u001b[1;32m     32\u001b[0m         \u001b[0mprint\u001b[0m\u001b[0;34m(\u001b[0m\u001b[0;34m\"Action choisi :\"\u001b[0m\u001b[0;34m,\u001b[0m \u001b[0mactionToMove\u001b[0m\u001b[0;34m[\u001b[0m\u001b[0maction\u001b[0m\u001b[0;34m]\u001b[0m\u001b[0;34m)\u001b[0m\u001b[0;34m\u001b[0m\u001b[0;34m\u001b[0m\u001b[0m\n\u001b[1;32m     33\u001b[0m         \u001b[0mobs\u001b[0m\u001b[0;34m,\u001b[0m \u001b[0mreward\u001b[0m\u001b[0;34m,\u001b[0m \u001b[0mdone\u001b[0m\u001b[0;34m,\u001b[0m \u001b[0m_\u001b[0m \u001b[0;34m=\u001b[0m \u001b[0menv\u001b[0m\u001b[0;34m.\u001b[0m\u001b[0mstep\u001b[0m\u001b[0;34m(\u001b[0m\u001b[0maction\u001b[0m\u001b[0;34m)\u001b[0m\u001b[0;34m\u001b[0m\u001b[0;34m\u001b[0m\u001b[0m\n",
      "\u001b[0;32m<ipython-input-121-f21eaef5507e>\u001b[0m in \u001b[0;36mact\u001b[0;34m(self, obs, reward, done)\u001b[0m\n\u001b[1;32m      9\u001b[0m         \u001b[0;32mglobal\u001b[0m \u001b[0mQ\u001b[0m\u001b[0;34m\u001b[0m\u001b[0;34m\u001b[0m\u001b[0m\n\u001b[1;32m     10\u001b[0m         \u001b[0mprint\u001b[0m\u001b[0;34m(\u001b[0m\u001b[0mQ\u001b[0m\u001b[0;34m[\u001b[0m\u001b[0mgridworld\u001b[0m\u001b[0;34m.\u001b[0m\u001b[0mGridworldEnv\u001b[0m\u001b[0;34m.\u001b[0m\u001b[0mstate2str\u001b[0m\u001b[0;34m(\u001b[0m\u001b[0mobs\u001b[0m\u001b[0;34m)\u001b[0m\u001b[0;34m]\u001b[0m\u001b[0;34m)\u001b[0m\u001b[0;34m\u001b[0m\u001b[0;34m\u001b[0m\u001b[0m\n\u001b[0;32m---> 11\u001b[0;31m         \u001b[0;32mreturn\u001b[0m \u001b[0mint\u001b[0m\u001b[0;34m(\u001b[0m\u001b[0minput\u001b[0m\u001b[0;34m(\u001b[0m\u001b[0;34m)\u001b[0m\u001b[0;34m)\u001b[0m\u001b[0;34m\u001b[0m\u001b[0;34m\u001b[0m\u001b[0m\n\u001b[0m",
      "\u001b[0;32m~/python3_env/lib/python3.8/site-packages/ipykernel/kernelbase.py\u001b[0m in \u001b[0;36mraw_input\u001b[0;34m(self, prompt)\u001b[0m\n\u001b[1;32m    858\u001b[0m                 \u001b[0;34m\"raw_input was called, but this frontend does not support input requests.\"\u001b[0m\u001b[0;34m\u001b[0m\u001b[0;34m\u001b[0m\u001b[0m\n\u001b[1;32m    859\u001b[0m             )\n\u001b[0;32m--> 860\u001b[0;31m         return self._input_request(str(prompt),\n\u001b[0m\u001b[1;32m    861\u001b[0m             \u001b[0mself\u001b[0m\u001b[0;34m.\u001b[0m\u001b[0m_parent_ident\u001b[0m\u001b[0;34m,\u001b[0m\u001b[0;34m\u001b[0m\u001b[0;34m\u001b[0m\u001b[0m\n\u001b[1;32m    862\u001b[0m             \u001b[0mself\u001b[0m\u001b[0;34m.\u001b[0m\u001b[0m_parent_header\u001b[0m\u001b[0;34m,\u001b[0m\u001b[0;34m\u001b[0m\u001b[0;34m\u001b[0m\u001b[0m\n",
      "\u001b[0;32m~/python3_env/lib/python3.8/site-packages/ipykernel/kernelbase.py\u001b[0m in \u001b[0;36m_input_request\u001b[0;34m(self, prompt, ident, parent, password)\u001b[0m\n\u001b[1;32m    902\u001b[0m             \u001b[0;32mexcept\u001b[0m \u001b[0mKeyboardInterrupt\u001b[0m\u001b[0;34m:\u001b[0m\u001b[0;34m\u001b[0m\u001b[0;34m\u001b[0m\u001b[0m\n\u001b[1;32m    903\u001b[0m                 \u001b[0;31m# re-raise KeyboardInterrupt, to truncate traceback\u001b[0m\u001b[0;34m\u001b[0m\u001b[0;34m\u001b[0m\u001b[0;34m\u001b[0m\u001b[0m\n\u001b[0;32m--> 904\u001b[0;31m                 \u001b[0;32mraise\u001b[0m \u001b[0mKeyboardInterrupt\u001b[0m\u001b[0;34m(\u001b[0m\u001b[0;34m\"Interrupted by user\"\u001b[0m\u001b[0;34m)\u001b[0m \u001b[0;32mfrom\u001b[0m \u001b[0;32mNone\u001b[0m\u001b[0;34m\u001b[0m\u001b[0;34m\u001b[0m\u001b[0m\n\u001b[0m\u001b[1;32m    905\u001b[0m             \u001b[0;32mexcept\u001b[0m \u001b[0mException\u001b[0m \u001b[0;32mas\u001b[0m \u001b[0me\u001b[0m\u001b[0;34m:\u001b[0m\u001b[0;34m\u001b[0m\u001b[0;34m\u001b[0m\u001b[0m\n\u001b[1;32m    906\u001b[0m                 \u001b[0mself\u001b[0m\u001b[0;34m.\u001b[0m\u001b[0mlog\u001b[0m\u001b[0;34m.\u001b[0m\u001b[0mwarning\u001b[0m\u001b[0;34m(\u001b[0m\u001b[0;34m\"Invalid Message:\"\u001b[0m\u001b[0;34m,\u001b[0m \u001b[0mexc_info\u001b[0m\u001b[0;34m=\u001b[0m\u001b[0;32mTrue\u001b[0m\u001b[0;34m)\u001b[0m\u001b[0;34m\u001b[0m\u001b[0;34m\u001b[0m\u001b[0m\n",
      "\u001b[0;31mKeyboardInterrupt\u001b[0m: Interrupted by user"
     ]
    }
   ],
   "source": [
    "env = gym.make(\"gridworld-v0\")\n",
    "env.setPlan(\"gridworldPlans/plan0.txt\", {0: -0.001, 3: 1, 4: 1, 5: -1, 6: -1})\n",
    "\n",
    "env.seed(0)  # Initialise le seed du pseudo-random\n",
    "#print(env.action_space)  # Quelles sont les actions possibles\n",
    "#print(env.step(1))  # faire action 1 et retourne l'observation, le reward, et un done un booleen (jeu fini ou pas)\n",
    "useless = env.render()  # permet de visualiser la grille du jeu \n",
    "statedic, mdp = env.getMDP()  # recupere le mdp : statedic\n",
    "#print(\"Nombre d'etats : \",len(statedic))  # nombre d'etats ,statedic : etat-> numero de l'etat\n",
    "state, transitions = list(mdp.items())[0]\n",
    "#print(state)  # un etat du mdp\n",
    "#print(transitions)  # dictionnaire des transitions pour l'etat :  {action-> [proba,etat,reward,done]}\n",
    "\n",
    "# Execution avec un Agent\n",
    "agent = HumanAgent(env.action_space)\n",
    "\n",
    "\n",
    "episode_count = 1000\n",
    "reward = 0\n",
    "done = False\n",
    "rsum = 0\n",
    "FPS = 0.0001\n",
    "for i in range(episode_count):\n",
    "    obs = env.reset()\n",
    "    env.verbose = False  # afficher 1 episode sur 100\n",
    "    if env.verbose:\n",
    "        env.render(FPS)\n",
    "    j = 0\n",
    "    rsum = 0\n",
    "    while True:\n",
    "        action = agent.act(obs, reward, done)\n",
    "        print(\"Action choisi :\", actionToMove[action])\n",
    "        obs, reward, done, _ = env.step(action)\n",
    "        rsum += reward\n",
    "        j += 1\n",
    "        if env.verbose:\n",
    "            useless = env.render(FPS)\n",
    "        if done:\n",
    "            #print(\"Episode : \" + str(i) + \" rsum=\" + str(rsum) + \", \" + str(j) + \" actions\")\n",
    "            break\n",
    "print(\"done\")\n",
    "env.close()"
   ]
  },
  {
   "cell_type": "code",
   "execution_count": 120,
   "metadata": {},
   "outputs": [],
   "source": [
    "list(agent.Qsa.values())\n",
    "import copy\n",
    "Q = copy.deepcopy(agent.Qsa)"
   ]
  },
  {
   "cell_type": "code",
   "execution_count": 121,
   "metadata": {},
   "outputs": [],
   "source": [
    "class HumanAgent(object):\n",
    "    \"\"\"Human agent!\"\"\"\n",
    "    \n",
    "    def __init__(self, action_space):\n",
    "        pass\n",
    "\n",
    "\n",
    "    def act(self, obs, reward, done):\n",
    "        global Q\n",
    "        print(Q[gridworld.GridworldEnv.state2str(obs)])\n",
    "        return int(input())"
   ]
  },
  {
   "cell_type": "code",
   "execution_count": null,
   "metadata": {},
   "outputs": [],
   "source": []
  }
 ],
 "metadata": {
  "kernelspec": {
   "display_name": "Python 3",
   "language": "python",
   "name": "python3"
  },
  "language_info": {
   "codemirror_mode": {
    "name": "ipython",
    "version": 3
   },
   "file_extension": ".py",
   "mimetype": "text/x-python",
   "name": "python",
   "nbconvert_exporter": "python",
   "pygments_lexer": "ipython3",
   "version": "3.8.5"
  }
 },
 "nbformat": 4,
 "nbformat_minor": 4
}
