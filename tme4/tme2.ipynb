{
 "cells": [
  {
   "cell_type": "code",
   "execution_count": 1,
   "metadata": {},
   "outputs": [],
   "source": [
    "import torch\n",
    "from torch.utils.tensorboard import SummaryWriter\n",
    "## Installer datamaestro et datamaestro-ml pip install datamaestro datamaestro-ml\n",
    "import datamaestro\n",
    "from tqdm import tqdm\n",
    "import numpy as np\n",
    "import torch\n",
    "from torch.utils.tensorboard import SummaryWriter\n",
    "from torch.nn.functional import linear\n",
    "from torch.nn import MSELoss\n",
    "from tp1 import MSE, linear, Context"
   ]
  },
  {
   "cell_type": "markdown",
   "metadata": {},
   "source": [
    "## Normalize boston Data"
   ]
  },
  {
   "cell_type": "code",
   "execution_count": 4,
   "metadata": {},
   "outputs": [],
   "source": [
    "data=datamaestro.prepare_dataset(\"edu.uci.boston\")\n",
    "colnames, datax, datay = data.data()\n",
    "datax = (datax-datax.min(axis=0))/(datax.max(axis=0)-datax.min(axis=0))"
   ]
  },
  {
   "cell_type": "markdown",
   "metadata": {},
   "source": [
    "## Apply TME1 functions"
   ]
  },
  {
   "cell_type": "code",
   "execution_count": 6,
   "metadata": {},
   "outputs": [
    {
     "name": "stdout",
     "output_type": "stream",
     "text": [
      "Itérations 0: loss 712.0059814453125\n",
      "Itérations 100: loss 254.4786376953125\n",
      "Itérations 200: loss 146.6306610107422\n",
      "Itérations 300: loss 116.59663391113281\n",
      "Itérations 400: loss 104.45825958251953\n",
      "Itérations 500: loss 96.93397521972656\n",
      "Itérations 600: loss 91.01441955566406\n",
      "Itérations 700: loss 85.96133422851562\n",
      "Itérations 800: loss 81.54600524902344\n",
      "Itérations 900: loss 77.66048431396484\n"
     ]
    }
   ],
   "source": [
    "#writer = SummaryWriter()\n",
    "\n",
    "# Les données supervisées\n",
    "x = torch.tensor(datax).float()\n",
    "y = torch.tensor(datay.reshape((len(datay), 1))).float()\n",
    "\n",
    "# Les paramètres du modèle à optimiser\n",
    "w = torch.randn(13, 1)\n",
    "b = torch.randn(1)\n",
    "\n",
    "epsilon = 0.001\n",
    "\n",
    "writer = SummaryWriter()\n",
    "for n_iter in range(1000):\n",
    "    # Pass Forward\n",
    "    ctx1 = Context()\n",
    "    ctx2 = Context()\n",
    "\n",
    "    yhat = linear.forward(ctx1,x,w,b)\n",
    "    loss = MSE.forward(ctx2,yhat,y)\n",
    "\n",
    "    # Back propagation\n",
    "    grad_yhat, grad_y = MSE.backward(ctx2, 1)\n",
    "    grad_x, grad_w, grad_b = linear.backward(ctx1, grad_yhat)\n",
    "\n",
    "    #import ipdb;ipdb.set_trace()\n",
    "\n",
    "    # Tensorboard visualization\n",
    "    # To visualize type command : tensorboard --logdir=runs in current directory\n",
    "    writer.add_scalar('Loss/train', loss, n_iter)\n",
    "    if(n_iter%100==0):\n",
    "        print(f\"Itérations {n_iter}: loss {loss}\")\n",
    "\n",
    "    # Updating parameters\n",
    "    w -= epsilon*grad_w\n",
    "    b -= epsilon*grad_b\n",
    "\n",
    "#writer.close()"
   ]
  },
  {
   "cell_type": "markdown",
   "metadata": {},
   "source": [
    "## Apply with torch functions"
   ]
  },
  {
   "cell_type": "code",
   "execution_count": 13,
   "metadata": {},
   "outputs": [
    {
     "name": "stdout",
     "output_type": "stream",
     "text": [
      "Itérations 0: loss 253.6772918701172\n",
      "Itérations 100: loss 99.35590362548828\n",
      "Itérations 200: loss 8.592985153198242\n",
      "Itérations 300: loss 133.64051818847656\n",
      "Itérations 400: loss 74.8947525024414\n",
      "Itérations 500: loss 15.232146263122559\n",
      "Itérations 600: loss 18.405847549438477\n",
      "Itérations 700: loss 19.734079360961914\n",
      "Itérations 800: loss 45.11915969848633\n",
      "Itérations 900: loss 17.467031478881836\n"
     ]
    }
   ],
   "source": [
    "\n",
    "# Les données supervisées\n",
    "x = torch.tensor(datax).float()\n",
    "y = torch.tensor(datay.reshape((len(datay), 1))).float()\n",
    "\n",
    "# Les paramètres du modèle à optimiser\n",
    "w =  torch.nn.Parameter(torch.randn((1, 13)))\n",
    "b =  torch.nn.Parameter(torch.randn(1))\n",
    "\n",
    "epsilon = 0.001\n",
    "\n",
    "optim = torch.optim.SGD(params=[w,b],lr=epsilon)\n",
    "optim.zero_grad()\n",
    "\n",
    "mse = MSELoss()\n",
    "\n",
    "size_batch = 100\n",
    "\n",
    "writer = SummaryWriter()\n",
    "for n_iter in range(1000):\n",
    "    \n",
    "    indices = torch.randperm(len(x))\n",
    "    for i in range(int(np.ceil((len(x)/size_batch)))):\n",
    "        # Pass Forward\n",
    "        index = indices[i*size_batch:(i+1)*size_batch]\n",
    "        x_batch = x[index]\n",
    "        y_batch = y[index]\n",
    "        yhat = torch.nn.functional.linear(x_batch,w,b)\n",
    "        loss = mse(yhat,y_batch)\n",
    "\n",
    "        loss.backward()\n",
    "\n",
    "        #import ipdb;ipdb.set_trace()\n",
    "\n",
    "        # Tensorboard visualization\n",
    "        # To visualize type command : tensorboard --logdir=runs in current directory\n",
    "        writer.add_scalar('Loss/train', loss, n_iter)\n",
    "        \n",
    "        # Updating parameters & reset grad\n",
    "        optim.step()\n",
    "        optim.zero_grad()\n",
    "        \n",
    "    if(n_iter%100==0):\n",
    "        print(f\"Itérations {n_iter}: loss {loss}\")\n",
    "\n",
    "writer.close()"
   ]
  },
  {
   "cell_type": "markdown",
   "metadata": {},
   "source": [
    "## Try 2 couches (linear->tanh->linear->MSE)"
   ]
  },
  {
   "cell_type": "code",
   "execution_count": 33,
   "metadata": {},
   "outputs": [
    {
     "name": "stdout",
     "output_type": "stream",
     "text": [
      "Itérations 0: loss 594.3727416992188\n",
      "Itérations 100: loss 314.0970458984375\n",
      "Itérations 200: loss 187.53256225585938\n",
      "Itérations 300: loss 130.70249938964844\n",
      "Itérations 400: loss 105.19783782958984\n",
      "Itérations 500: loss 93.75227355957031\n",
      "Itérations 600: loss 88.61532592773438\n",
      "Itérations 700: loss 86.30905151367188\n",
      "Itérations 800: loss 85.27283477783203\n",
      "Itérations 900: loss 84.8064193725586\n"
     ]
    }
   ],
   "source": [
    "# Les données supervisées\n",
    "x = torch.tensor(datax).float()\n",
    "y = torch.tensor(datay.reshape((len(datay), 1))).float()\n",
    "\n",
    "# Les paramètres du modèle à optimiser\n",
    "w1 =  torch.nn.Parameter(torch.randn((1, 13)))\n",
    "b1 =  torch.nn.Parameter(torch.randn(1))\n",
    "\n",
    "w2 =  torch.nn.Parameter(torch.randn((1,1)))\n",
    "b2 =  torch.nn.Parameter(torch.randn(1))\n",
    "\n",
    "epsilon = 0.001\n",
    "\n",
    "optim = torch.optim.SGD(params=[w1,b1,w2,b2],lr=epsilon)\n",
    "optim.zero_grad()\n",
    "\n",
    "mse = MSELoss()\n",
    "\n",
    "size_batch = len(x)\n",
    "\n",
    "#writer = SummaryWriter()\n",
    "for n_iter in range(1000):\n",
    "    \n",
    "    indices = torch.randperm(len(x))\n",
    "    for i in range(int(np.ceil((len(x)/size_batch)))):\n",
    "        #Compute sample\n",
    "        index = indices[i*size_batch:(i+1)*size_batch]\n",
    "        x_batch = x[index]\n",
    "        y_batch = y[index]\n",
    "        \n",
    "        # Pass Forward\n",
    "        out = torch.nn.functional.linear(x_batch,w1,b1)\n",
    "        out = torch.nn.functional.tanh(out)\n",
    "        yhat = torch.nn.functional.linear(out,w2,b2)\n",
    "        loss = mse(yhat,y_batch)\n",
    "        \n",
    "        # Pass backward\n",
    "        loss.backward()\n",
    "        \n",
    "        # Updating parameters & reset grad\n",
    "        optim.step()\n",
    "        optim.zero_grad()\n",
    "        \n",
    "    if(n_iter%100==0):\n",
    "        print(f\"Itérations {n_iter}: loss {loss}\")\n",
    "\n",
    "#writer.close()"
   ]
  },
  {
   "cell_type": "markdown",
   "metadata": {},
   "source": [
    "## Use Module"
   ]
  },
  {
   "cell_type": "code",
   "execution_count": 35,
   "metadata": {},
   "outputs": [
    {
     "name": "stdout",
     "output_type": "stream",
     "text": [
      "Itérations 0: loss 627.5291137695312\n",
      "Itérations 100: loss 333.9671325683594\n",
      "Itérations 200: loss 196.41893005371094\n",
      "Itérations 300: loss 134.69065856933594\n",
      "Itérations 400: loss 106.9928207397461\n",
      "Itérations 500: loss 94.56427764892578\n",
      "Itérations 600: loss 88.98666381835938\n",
      "Itérations 700: loss 86.48289489746094\n",
      "Itérations 800: loss 85.35829162597656\n",
      "Itérations 900: loss 84.85257720947266\n"
     ]
    }
   ],
   "source": [
    "# Les données supervisées\n",
    "x = torch.tensor(datax).float()\n",
    "y = torch.tensor(datay.reshape((len(datay), 1))).float()\n",
    "\n",
    "# Module\n",
    "model = torch.nn.Sequential(\n",
    "          torch.nn.Linear(13, 1, bias=True),\n",
    "          torch.nn.Tanh(),\n",
    "          torch.nn.Linear(1, 1, bias=True)\n",
    "        )\n",
    "\n",
    "epsilon = 0.001\n",
    "\n",
    "optim = torch.optim.SGD(params=model.parameters(),lr=epsilon)\n",
    "optim.zero_grad()\n",
    "\n",
    "criterion = MSELoss()\n",
    "\n",
    "size_batch = len(x)\n",
    "\n",
    "#writer = SummaryWriter()\n",
    "for n_iter in range(1000):\n",
    "    \n",
    "    indices = torch.randperm(len(x))\n",
    "    for i in range(int(np.ceil((len(x)/size_batch)))):\n",
    "        #Compute sample\n",
    "        index = indices[i*size_batch:(i+1)*size_batch]\n",
    "        x_batch = x[index]\n",
    "        y_batch = y[index]\n",
    "        \n",
    "        # Pass Forward\n",
    "        yhat = model(x_batch)\n",
    "        loss = criterion(yhat, y_batch)\n",
    "        \n",
    "        # Pass backward\n",
    "        loss.backward()\n",
    "        \n",
    "        # Updating parameters & reset grad\n",
    "        optim.step()\n",
    "        optim.zero_grad()\n",
    "        \n",
    "    if(n_iter%100==0):\n",
    "        print(f\"Itérations {n_iter}: loss {loss}\")\n",
    "\n",
    "#writer.close()"
   ]
  }
 ],
 "metadata": {
  "kernelspec": {
   "display_name": "Python 3",
   "language": "python",
   "name": "python3"
  },
  "language_info": {
   "codemirror_mode": {
    "name": "ipython",
    "version": 3
   },
   "file_extension": ".py",
   "mimetype": "text/x-python",
   "name": "python",
   "nbconvert_exporter": "python",
   "pygments_lexer": "ipython3",
   "version": "3.8.5"
  }
 },
 "nbformat": 4,
 "nbformat_minor": 4
}
